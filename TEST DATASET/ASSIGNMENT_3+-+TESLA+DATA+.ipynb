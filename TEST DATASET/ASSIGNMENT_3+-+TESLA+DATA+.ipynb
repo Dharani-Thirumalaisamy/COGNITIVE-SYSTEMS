{
 "cells": [
  {
   "cell_type": "markdown",
   "metadata": {},
   "source": [
    "### IMPORTING LIBRARIES "
   ]
  },
  {
   "cell_type": "code",
   "execution_count": 1,
   "metadata": {
    "collapsed": true
   },
   "outputs": [],
   "source": [
    "import  urllib\n",
    "import bs4\n",
    "from bs4 import BeautifulSoup as bs\n",
    "import os\n",
    "import argparse\n",
    "from urllib.request import Request, urlopen\n",
    "import pandas as pd\n",
    "from pandas import DataFrame as df\n",
    "import json"
   ]
  },
  {
   "cell_type": "markdown",
   "metadata": {},
   "source": [
    "### PARSING THE DATASET"
   ]
  },
  {
   "cell_type": "code",
   "execution_count": 2,
   "metadata": {
    "collapsed": true
   },
   "outputs": [],
   "source": [
    "url = ('https://seekingalpha.com/article/4214138-tesla-inc-tsla-ceo-elon-musk-q3-2018-results-earnings-call-transcript?part=single')\n",
    "tesla_transcript= Request(url,headers={'User-Agent': 'Mozilla/5.0'})\n",
    "transcript = urlopen(tesla_transcript).read()\n",
    "\n",
    "tesla_transcript_2 = bs(transcript,'html.parser')"
   ]
  },
  {
   "cell_type": "code",
   "execution_count": 3,
   "metadata": {
    "collapsed": true
   },
   "outputs": [],
   "source": [
    "script_1 = tesla_transcript_2.findAll('p',attrs={'p p1'})\n",
    "script_2 = tesla_transcript_2.findAll('p',attrs={'p p2'})\n",
    "script_3 = tesla_transcript_2.findAll('p',attrs={'p p3'})\n",
    "script_4 = tesla_transcript_2.findAll('p',attrs={'p p4'})\n",
    "script_5 = tesla_transcript_2.findAll('p',attrs={'p p5'})\n",
    "script_6 = tesla_transcript_2.findAll('p',attrs={'p p6'})\n",
    "script_7 = tesla_transcript_2.findAll('p',attrs={'p p7'})\n",
    "script_8 = tesla_transcript_2.findAll('p',attrs={'p p8'})\n",
    "script_9 = tesla_transcript_2.findAll('p',attrs={'p p9'})\n",
    "script_10 = tesla_transcript_2.findAll('p',attrs={'p p10'})\n",
    "script_11 = tesla_transcript_2.findAll('p',attrs={'p p11'})\n",
    "script_12 = tesla_transcript_2.findAll('p',attrs={'p p12'})\n",
    "script_13 = tesla_transcript_2.findAll('p',attrs={'p p13'})\n",
    "script_14 = tesla_transcript_2.findAll('p',attrs={'p p14'})\n",
    "script_15 = tesla_transcript_2.findAll('p',attrs={'p p15'})\n",
    "script_16 = tesla_transcript_2.findAll('p',attrs={'p p16'})"
   ]
  },
  {
   "cell_type": "code",
   "execution_count": 4,
   "metadata": {
    "collapsed": true
   },
   "outputs": [],
   "source": [
    "scripts = (script_1,script_2,script_3,script_4,script_5,script_6,script_7,script_8,script_9,script_10,script_11,script_12,script_13,script_14,script_15,script_16)"
   ]
  },
  {
   "cell_type": "markdown",
   "metadata": {},
   "source": [
    "### SPLITTING THE DATASET INTO PARAGRAPHS"
   ]
  },
  {
   "cell_type": "code",
   "execution_count": 5,
   "metadata": {
    "collapsed": true
   },
   "outputs": [],
   "source": [
    "split_para=[]\n",
    "for i in range(0,16):\n",
    "    split=[]\n",
    "    for j in range(len(scripts[i])):\n",
    "        txt = scripts[i][j].text.strip()\n",
    "        if len(txt.split(' ')) > 10:\n",
    "            split.append(txt)\n",
    "    split_para.append(split)"
   ]
  },
  {
   "cell_type": "code",
   "execution_count": 6,
   "metadata": {},
   "outputs": [
    {
     "data": {
      "text/plain": [
       "16"
      ]
     },
     "execution_count": 6,
     "metadata": {},
     "output_type": "execute_result"
    }
   ],
   "source": [
    "len(split_para)"
   ]
  },
  {
   "cell_type": "markdown",
   "metadata": {},
   "source": [
    "### CONVERTING INTO DATAFRAME"
   ]
  },
  {
   "cell_type": "code",
   "execution_count": 7,
   "metadata": {
    "collapsed": true
   },
   "outputs": [],
   "source": [
    "dataframe = []\n",
    "for i in range(len(split_para)):\n",
    "    splits = pd.DataFrame(split_para[i],columns=['text'])\n",
    "    dataframe.append(splits)\n",
    "    "
   ]
  },
  {
   "cell_type": "code",
   "execution_count": 19,
   "metadata": {
    "collapsed": true
   },
   "outputs": [],
   "source": [
    "dataframes = (dataframe[0],dataframe[1],dataframe[2],dataframe[3],dataframe[4],dataframe[5],dataframe[6],dataframe[7],dataframe[8],dataframe[9],dataframe[10],dataframe[11],dataframe[12],dataframe[13],dataframe[14],dataframe[15])"
   ]
  },
  {
   "cell_type": "code",
   "execution_count": 20,
   "metadata": {},
   "outputs": [],
   "source": [
    "dataframes = pd.concat(dataframes,ignore_index=True)"
   ]
  },
  {
   "cell_type": "code",
   "execution_count": 21,
   "metadata": {},
   "outputs": [
    {
     "data": {
      "text/html": [
       "<div>\n",
       "<style>\n",
       "    .dataframe thead tr:only-child th {\n",
       "        text-align: right;\n",
       "    }\n",
       "\n",
       "    .dataframe thead th {\n",
       "        text-align: left;\n",
       "    }\n",
       "\n",
       "    .dataframe tbody tr th {\n",
       "        vertical-align: top;\n",
       "    }\n",
       "</style>\n",
       "<table border=\"1\" class=\"dataframe\">\n",
       "  <thead>\n",
       "    <tr style=\"text-align: right;\">\n",
       "      <th></th>\n",
       "      <th>text</th>\n",
       "    </tr>\n",
       "  </thead>\n",
       "  <tbody>\n",
       "    <tr>\n",
       "      <th>0</th>\n",
       "      <td>Tesla Inc. (NASDAQ:TSLA) Q3 2018 Earnings Conf...</td>\n",
       "    </tr>\n",
       "    <tr>\n",
       "      <th>1</th>\n",
       "      <td>Good day, ladies and gentlemen, and welcome to...</td>\n",
       "    </tr>\n",
       "    <tr>\n",
       "      <th>2</th>\n",
       "      <td>I would now like to introduce your host for to...</td>\n",
       "    </tr>\n",
       "    <tr>\n",
       "      <th>3</th>\n",
       "      <td>Thank you, Sherry, and good afternoon, everyon...</td>\n",
       "    </tr>\n",
       "    <tr>\n",
       "      <th>4</th>\n",
       "      <td>During this call, we will discuss our business...</td>\n",
       "    </tr>\n",
       "    <tr>\n",
       "      <th>5</th>\n",
       "      <td>But before we jump into Q&amp;A, Elon has some ope...</td>\n",
       "    </tr>\n",
       "    <tr>\n",
       "      <th>6</th>\n",
       "      <td>Thanks, Martin. So I'll make some opening rema...</td>\n",
       "    </tr>\n",
       "    <tr>\n",
       "      <th>7</th>\n",
       "      <td>But I want to start by thanking all of our cus...</td>\n",
       "    </tr>\n",
       "    <tr>\n",
       "      <th>8</th>\n",
       "      <td>Model 3 became the best-selling car in U.S. in...</td>\n",
       "    </tr>\n",
       "    <tr>\n",
       "      <th>9</th>\n",
       "      <td>We achieved GAAP net income of over $300 milli...</td>\n",
       "    </tr>\n",
       "    <tr>\n",
       "      <th>10</th>\n",
       "      <td>This quarter was made possible by the incredib...</td>\n",
       "    </tr>\n",
       "    <tr>\n",
       "      <th>11</th>\n",
       "      <td>I think that's amazing. You just don't see tha...</td>\n",
       "    </tr>\n",
       "    <tr>\n",
       "      <th>12</th>\n",
       "      <td>Looking ahead, we expect to produce and sell e...</td>\n",
       "    </tr>\n",
       "    <tr>\n",
       "      <th>13</th>\n",
       "      <td>I said before that we must prove that Tesla ca...</td>\n",
       "    </tr>\n",
       "    <tr>\n",
       "      <th>14</th>\n",
       "      <td>All right, now, let's move to - let's start up...</td>\n",
       "    </tr>\n",
       "    <tr>\n",
       "      <th>15</th>\n",
       "      <td>10 years, wow. So, yeah, I've been working wit...</td>\n",
       "    </tr>\n",
       "    <tr>\n",
       "      <th>16</th>\n",
       "      <td>And you know what, we're really go - try to go...</td>\n",
       "    </tr>\n",
       "    <tr>\n",
       "      <th>17</th>\n",
       "      <td>At Tesla, we're like, okay, what is the weakes...</td>\n",
       "    </tr>\n",
       "    <tr>\n",
       "      <th>18</th>\n",
       "      <td>Thank you, Elon. Just want to give you a very ...</td>\n",
       "    </tr>\n",
       "    <tr>\n",
       "      <th>19</th>\n",
       "      <td>Like I said, I joined Tesla, 10 years. I'm ext...</td>\n",
       "    </tr>\n",
       "    <tr>\n",
       "      <th>20</th>\n",
       "      <td>And that fundamental difference differentiates...</td>\n",
       "    </tr>\n",
       "    <tr>\n",
       "      <th>21</th>\n",
       "      <td>Yeah. I think, architecturally, we have Newton...</td>\n",
       "    </tr>\n",
       "    <tr>\n",
       "      <th>22</th>\n",
       "      <td>Right, exactly. So in the latest series of tes...</td>\n",
       "    </tr>\n",
       "    <tr>\n",
       "      <th>23</th>\n",
       "      <td>Yeah, exactly. So if you look at there, there ...</td>\n",
       "    </tr>\n",
       "    <tr>\n",
       "      <th>24</th>\n",
       "      <td>We are not stopping right now. What we would l...</td>\n",
       "    </tr>\n",
       "    <tr>\n",
       "      <th>25</th>\n",
       "      <td>Again, it's worth noting that the safety exten...</td>\n",
       "    </tr>\n",
       "    <tr>\n",
       "      <th>26</th>\n",
       "      <td>Yeah, so not having a big engine block in fron...</td>\n",
       "    </tr>\n",
       "    <tr>\n",
       "      <th>27</th>\n",
       "      <td>So it's helpful for pedestrian safety and for ...</td>\n",
       "    </tr>\n",
       "    <tr>\n",
       "      <th>28</th>\n",
       "      <td>I'd like to add one item, which is essentially...</td>\n",
       "    </tr>\n",
       "    <tr>\n",
       "      <th>29</th>\n",
       "      <td>Exactly. That's what I meant, like anti-game t...</td>\n",
       "    </tr>\n",
       "    <tr>\n",
       "      <th>...</th>\n",
       "      <td>...</td>\n",
       "    </tr>\n",
       "    <tr>\n",
       "      <th>149</th>\n",
       "      <td>Thank you. Our next question comes from James ...</td>\n",
       "    </tr>\n",
       "    <tr>\n",
       "      <th>150</th>\n",
       "      <td>Great. Good afternoon, and thanks for taking t...</td>\n",
       "    </tr>\n",
       "    <tr>\n",
       "      <th>151</th>\n",
       "      <td>I want to just point a clarification, Elon, yo...</td>\n",
       "    </tr>\n",
       "    <tr>\n",
       "      <th>152</th>\n",
       "      <td>It's all in automotive, gross margin and our l...</td>\n",
       "    </tr>\n",
       "    <tr>\n",
       "      <th>153</th>\n",
       "      <td>Outbond logistics. Yeah, I think we'd see a re...</td>\n",
       "    </tr>\n",
       "    <tr>\n",
       "      <th>154</th>\n",
       "      <td>The interest expense also that's in the intere...</td>\n",
       "    </tr>\n",
       "    <tr>\n",
       "      <th>155</th>\n",
       "      <td>Okay, yeah. That's why - I do think like the -...</td>\n",
       "    </tr>\n",
       "    <tr>\n",
       "      <th>156</th>\n",
       "      <td>And from a broader sense you're looking at it ...</td>\n",
       "    </tr>\n",
       "    <tr>\n",
       "      <th>157</th>\n",
       "      <td>Yeah. Just, essentially, the cash flow ability...</td>\n",
       "    </tr>\n",
       "    <tr>\n",
       "      <th>158</th>\n",
       "      <td>Understood, and I appreciate that clarificatio...</td>\n",
       "    </tr>\n",
       "    <tr>\n",
       "      <th>159</th>\n",
       "      <td>And if you're willing maybe to provide an upda...</td>\n",
       "    </tr>\n",
       "    <tr>\n",
       "      <th>160</th>\n",
       "      <td>I think, over time, every quarter progressivel...</td>\n",
       "    </tr>\n",
       "    <tr>\n",
       "      <th>161</th>\n",
       "      <td>Yeah. Long-term, I would expect service to be ...</td>\n",
       "    </tr>\n",
       "    <tr>\n",
       "      <th>162</th>\n",
       "      <td>Exactly, we're under warranty. Just like a lot...</td>\n",
       "    </tr>\n",
       "    <tr>\n",
       "      <th>163</th>\n",
       "      <td>And our used car savings is continuing to grow...</td>\n",
       "    </tr>\n",
       "    <tr>\n",
       "      <th>164</th>\n",
       "      <td>Okay. And on the battery cost? There was a que...</td>\n",
       "    </tr>\n",
       "    <tr>\n",
       "      <th>165</th>\n",
       "      <td>Well, that is a key sort of like competitive m...</td>\n",
       "    </tr>\n",
       "    <tr>\n",
       "      <th>166</th>\n",
       "      <td>Thank you our final question comes from Phil L...</td>\n",
       "    </tr>\n",
       "    <tr>\n",
       "      <th>167</th>\n",
       "      <td>Thank you, guys. Elon, a quick question, in te...</td>\n",
       "    </tr>\n",
       "    <tr>\n",
       "      <th>168</th>\n",
       "      <td>We don't expect this to result in - I mean, ye...</td>\n",
       "    </tr>\n",
       "    <tr>\n",
       "      <th>169</th>\n",
       "      <td>But in terms of in the United States, do you e...</td>\n",
       "    </tr>\n",
       "    <tr>\n",
       "      <th>170</th>\n",
       "      <td>I think that as we're able to offer low cost v...</td>\n",
       "    </tr>\n",
       "    <tr>\n",
       "      <th>171</th>\n",
       "      <td>And if we could do the smaller pack now, we ab...</td>\n",
       "    </tr>\n",
       "    <tr>\n",
       "      <th>172</th>\n",
       "      <td>One thing - at least, it did triggered kind of...</td>\n",
       "    </tr>\n",
       "    <tr>\n",
       "      <th>173</th>\n",
       "      <td>So I do encourage our competitors to really ma...</td>\n",
       "    </tr>\n",
       "    <tr>\n",
       "      <th>174</th>\n",
       "      <td>We want to be as helpful as possible to the re...</td>\n",
       "    </tr>\n",
       "    <tr>\n",
       "      <th>175</th>\n",
       "      <td>And Elon started with it, and I wanted to say ...</td>\n",
       "    </tr>\n",
       "    <tr>\n",
       "      <th>176</th>\n",
       "      <td>Our results really are a reflection of the exe...</td>\n",
       "    </tr>\n",
       "    <tr>\n",
       "      <th>177</th>\n",
       "      <td>All right, anybody have any additional comment...</td>\n",
       "    </tr>\n",
       "    <tr>\n",
       "      <th>178</th>\n",
       "      <td>Ladies and gentlemen, thank you for participat...</td>\n",
       "    </tr>\n",
       "  </tbody>\n",
       "</table>\n",
       "<p>179 rows × 1 columns</p>\n",
       "</div>"
      ],
      "text/plain": [
       "                                                  text\n",
       "0    Tesla Inc. (NASDAQ:TSLA) Q3 2018 Earnings Conf...\n",
       "1    Good day, ladies and gentlemen, and welcome to...\n",
       "2    I would now like to introduce your host for to...\n",
       "3    Thank you, Sherry, and good afternoon, everyon...\n",
       "4    During this call, we will discuss our business...\n",
       "5    But before we jump into Q&A, Elon has some ope...\n",
       "6    Thanks, Martin. So I'll make some opening rema...\n",
       "7    But I want to start by thanking all of our cus...\n",
       "8    Model 3 became the best-selling car in U.S. in...\n",
       "9    We achieved GAAP net income of over $300 milli...\n",
       "10   This quarter was made possible by the incredib...\n",
       "11   I think that's amazing. You just don't see tha...\n",
       "12   Looking ahead, we expect to produce and sell e...\n",
       "13   I said before that we must prove that Tesla ca...\n",
       "14   All right, now, let's move to - let's start up...\n",
       "15   10 years, wow. So, yeah, I've been working wit...\n",
       "16   And you know what, we're really go - try to go...\n",
       "17   At Tesla, we're like, okay, what is the weakes...\n",
       "18   Thank you, Elon. Just want to give you a very ...\n",
       "19   Like I said, I joined Tesla, 10 years. I'm ext...\n",
       "20   And that fundamental difference differentiates...\n",
       "21   Yeah. I think, architecturally, we have Newton...\n",
       "22   Right, exactly. So in the latest series of tes...\n",
       "23   Yeah, exactly. So if you look at there, there ...\n",
       "24   We are not stopping right now. What we would l...\n",
       "25   Again, it's worth noting that the safety exten...\n",
       "26   Yeah, so not having a big engine block in fron...\n",
       "27   So it's helpful for pedestrian safety and for ...\n",
       "28   I'd like to add one item, which is essentially...\n",
       "29   Exactly. That's what I meant, like anti-game t...\n",
       "..                                                 ...\n",
       "149  Thank you. Our next question comes from James ...\n",
       "150  Great. Good afternoon, and thanks for taking t...\n",
       "151  I want to just point a clarification, Elon, yo...\n",
       "152  It's all in automotive, gross margin and our l...\n",
       "153  Outbond logistics. Yeah, I think we'd see a re...\n",
       "154  The interest expense also that's in the intere...\n",
       "155  Okay, yeah. That's why - I do think like the -...\n",
       "156  And from a broader sense you're looking at it ...\n",
       "157  Yeah. Just, essentially, the cash flow ability...\n",
       "158  Understood, and I appreciate that clarificatio...\n",
       "159  And if you're willing maybe to provide an upda...\n",
       "160  I think, over time, every quarter progressivel...\n",
       "161  Yeah. Long-term, I would expect service to be ...\n",
       "162  Exactly, we're under warranty. Just like a lot...\n",
       "163  And our used car savings is continuing to grow...\n",
       "164  Okay. And on the battery cost? There was a que...\n",
       "165  Well, that is a key sort of like competitive m...\n",
       "166  Thank you our final question comes from Phil L...\n",
       "167  Thank you, guys. Elon, a quick question, in te...\n",
       "168  We don't expect this to result in - I mean, ye...\n",
       "169  But in terms of in the United States, do you e...\n",
       "170  I think that as we're able to offer low cost v...\n",
       "171  And if we could do the smaller pack now, we ab...\n",
       "172  One thing - at least, it did triggered kind of...\n",
       "173  So I do encourage our competitors to really ma...\n",
       "174  We want to be as helpful as possible to the re...\n",
       "175  And Elon started with it, and I wanted to say ...\n",
       "176  Our results really are a reflection of the exe...\n",
       "177  All right, anybody have any additional comment...\n",
       "178  Ladies and gentlemen, thank you for participat...\n",
       "\n",
       "[179 rows x 1 columns]"
      ]
     },
     "execution_count": 21,
     "metadata": {},
     "output_type": "execute_result"
    }
   ],
   "source": [
    "dataframes"
   ]
  },
  {
   "cell_type": "code",
   "execution_count": 23,
   "metadata": {},
   "outputs": [
    {
     "data": {
      "text/plain": [
       "'\\ndataframes.index = dataframes.index.map(str)\\ndict = dataframes.to_dict()\\njson = json.dumps(dict,indent=2)\\nf = open(\\'tesla.json\\',\"w\")\\nf.write(json)\\nf.close()\\n'"
      ]
     },
     "execution_count": 23,
     "metadata": {},
     "output_type": "execute_result"
    }
   ],
   "source": [
    "'''\n",
    "dataframes.index = dataframes.index.map(str)\n",
    "dict = dataframes.to_dict()\n",
    "json = json.dumps(dict,indent=2)\n",
    "f = open('tesla.json',\"w\")\n",
    "f.write(json)\n",
    "f.close()\n",
    "'''"
   ]
  },
  {
   "cell_type": "markdown",
   "metadata": {},
   "source": [
    "### MANUAL LABELLING"
   ]
  },
  {
   "cell_type": "code",
   "execution_count": 11,
   "metadata": {
    "collapsed": true
   },
   "outputs": [],
   "source": [
    "manual_sentiment = ['Neutral','Positive','Positive','Positive','Neutral','Neutral','Positive','Positive','Positive','Positive',\n",
    "                    'Positive','Positive','Positive','Positive','Neutral','Positive','Positive','Neutral','Positive','Positive',\n",
    "                    'Positive','Positive','Positive','Positive','Positive','Neutral','Positive','Positive','Neutral','Positive',\n",
    "                    'Neutral','Positive','Positive','Neutral','Neutral','Positive','Positive','Positive','Positive','Positive',\n",
    "                    'Positive','Positive','Positive','Positive','Negative','Neutral','Neutral','Negative','Neutral','Positive',\n",
    "                    'Positive','Positive','Negative','Positive','Positive','Positive','Positive','Positive','Positive','Neutral',\n",
    "                    'Positive','Positive','Neutral','Positive','Positive','Positive','Neutral','Neutral','Positive','Neutral',\n",
    "                    'Positive','Positive','Positive','Positive','Neutral','Neutral','Positive','Neutral','Neutral','Positive',\n",
    "                    'Positive','Positive','Neutral','Negative','Neutral','Neutral','Neagtive','Neutral','Negative','Neutral',\n",
    "                    'Neutral','Neutral','Neutral','Neutral','Positive','Neutral','Negative','Neutral','Neutral','Neutral',\n",
    "                    'Negative','Positive','Neutral','Neutral','Neutral','Negative','Positive','Negative','Neutral','Positive',\n",
    "                    'Positive','Positive','Neutral','Positive','Negative','Neutral','Neutral','Neutral','Neutral','Negative',\n",
    "                    'Negative','Positive','Neutral','Positive','Positive','Neutral','Positive','Positive','Negative','Negative',\n",
    "                    'Positive','Positive','Positive','Positive','Positive','Neutral','Neutral','Neutral','Neutral','Negative',\n",
    "                    'Positive','Neutral','Neutral','Neutral','Negative','Positive','Negative','Negative','Positive','Neutral',\n",
    "                    'Neutral','Neutral','Neutral','Positive','Neutral','Neutral','Negative','Positive','Positive','Neutral',\n",
    "                    'Positive','Positive','Negative','Positive','Neutral','Positive','Neutral','Neutral','Positive','Neutral',\n",
    "                    'Positive','Negative','Positive','Positive','Positive','Positive','Positive','Neutral','Positive']"
   ]
  },
  {
   "cell_type": "code",
   "execution_count": 12,
   "metadata": {
    "collapsed": true
   },
   "outputs": [],
   "source": [
    "senti = pd.DataFrame(manual_sentiment,columns=['Sentiments'])"
   ]
  },
  {
   "cell_type": "code",
   "execution_count": 15,
   "metadata": {
    "collapsed": true
   },
   "outputs": [],
   "source": [
    "transcripts = dataframes.join(senti)"
   ]
  },
  {
   "cell_type": "code",
   "execution_count": 16,
   "metadata": {
    "collapsed": true
   },
   "outputs": [],
   "source": [
    "transcripts.index = transcripts.index.map(str)\n",
    "transcripts_dict = transcripts.to_dict()"
   ]
  },
  {
   "cell_type": "markdown",
   "metadata": {},
   "source": [
    "### TO JSON"
   ]
  },
  {
   "cell_type": "code",
   "execution_count": 17,
   "metadata": {},
   "outputs": [],
   "source": [
    "json = json.dumps(transcripts_dict,indent=2)\n",
    "f = open('TESLA_Q3_2018_EARNINGS_CALL_TRANSCRIPT_FANG.json',\"w\")\n",
    "f.write(json)\n",
    "f.close()"
   ]
  },
  {
   "cell_type": "code",
   "execution_count": null,
   "metadata": {
    "collapsed": true
   },
   "outputs": [],
   "source": []
  }
 ],
 "metadata": {
  "kernelspec": {
   "display_name": "Python 3",
   "language": "python",
   "name": "python3"
  },
  "language_info": {
   "codemirror_mode": {
    "name": "ipython",
    "version": 3
   },
   "file_extension": ".py",
   "mimetype": "text/x-python",
   "name": "python",
   "nbconvert_exporter": "python",
   "pygments_lexer": "ipython3",
   "version": "3.6.3"
  }
 },
 "nbformat": 4,
 "nbformat_minor": 2
}
